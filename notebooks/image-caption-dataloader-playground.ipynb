{
 "cells": [
  {
   "cell_type": "code",
   "execution_count": 15,
   "metadata": {},
   "outputs": [],
   "source": [
    "import torch\n",
    "from torchtext.data.utils import get_tokenizer\n",
    "from torchtext.vocab import build_vocab_from_iterator\n",
    "import matplotlib.pyplot as plt\n"
   ]
  },
  {
   "cell_type": "code",
   "execution_count": 17,
   "metadata": {},
   "outputs": [],
   "source": [
    "import torch\n",
    "device = torch.device(\"cuda\" if torch.cuda.is_available() else \"cpu\")"
   ]
  },
  {
   "cell_type": "code",
   "execution_count": 2,
   "metadata": {},
   "outputs": [],
   "source": [
    "tokenizer = get_tokenizer('basic_english')"
   ]
  },
  {
   "cell_type": "code",
   "execution_count": 63,
   "metadata": {},
   "outputs": [
    {
     "data": {
      "text/plain": [
       "array(['pericardial tamponade with clear distinction of epicardial border  and pericardium',\n",
       "       'angiography of the aortic arch show delay visualization of the aberrant right subclavian artery arrow',\n",
       "       'balloonocclude retrograde transvenous obliteration be attempt use a coaxial and double interruption system cytography be perform by insert the catheter into the shunt complete balloon occlusion be not achieve with a  balloon catheter arrow  the  mm balloon be inflate when the guide balloon catheter be fix at the optimum position arrow  follow which stasis of the contrast medium be observe we then perform balloonocclude retrograde transvenous obliteration use a sclerosing agent',\n",
       "       ...,\n",
       "       'preoperative cervical radiography lateral view of the cervical radiograph on the admission day reveal severe destruction of the vertebral body and kyphotic change at the  vertebral level',\n",
       "       'first admission day brain ct scan show no haematoma',\n",
       "       'radiograph of forelimb with a bone plate at  month after the operationan arrow indicate the osteotomized position'],\n",
       "      dtype=object)"
      ]
     },
     "execution_count": 63,
     "metadata": {},
     "output_type": "execute_result"
    }
   ],
   "source": []
  },
  {
   "cell_type": "code",
   "execution_count": 3,
   "metadata": {},
   "outputs": [],
   "source": [
    "import pandas as pd\n",
    "from pathlib import Path\n",
    "\n",
    "data_path = Path.cwd().joinpath(\"data\", \"raw\")\n",
    "caption_prediction = data_path.joinpath(\"caption-prediction\")\n",
    "corpus = pd.read_csv(caption_prediction.joinpath(\"corpus.csv\"), sep=\"\\t\").loc[:, \"caption\"].values"
   ]
  },
  {
   "cell_type": "code",
   "execution_count": 4,
   "metadata": {},
   "outputs": [],
   "source": [
    "def yield_tokens(data_iter):\n",
    "    for text in data_iter:\n",
    "        yield tokenizer(text)"
   ]
  },
  {
   "cell_type": "code",
   "execution_count": 5,
   "metadata": {},
   "outputs": [],
   "source": [
    "UNKNOWN_TOKEN = \"<unk>\"\n",
    "START_TOKEN = \"<sos>\"\n",
    "END_TOKEN = \"<eos>\"\n",
    "PAD_TOKEN = \"<pad>\"\n",
    "\n",
    "vocabulary = build_vocab_from_iterator(yield_tokens(corpus), specials=[UNKNOWN_TOKEN, START_TOKEN, END_TOKEN, PAD_TOKEN])\n",
    "vocabulary.set_default_index(vocabulary[UNKNOWN_TOKEN])"
   ]
  },
  {
   "cell_type": "code",
   "execution_count": 30,
   "metadata": {},
   "outputs": [
    {
     "data": {
      "text/plain": [
       "['<unk>', '<sos>', '<eos>', '<pad>', 'the', 'of', 'show', 'and', 'a', 'in']"
      ]
     },
     "execution_count": 30,
     "metadata": {},
     "output_type": "execute_result"
    }
   ],
   "source": [
    "vocabulary.get_itos()[:10]"
   ]
  },
  {
   "cell_type": "code",
   "execution_count": 7,
   "metadata": {},
   "outputs": [],
   "source": [
    "MAX_SEQ_LEN = 128 # should be the max length of the sentence in caption corpus"
   ]
  },
  {
   "cell_type": "code",
   "execution_count": null,
   "metadata": {},
   "outputs": [],
   "source": []
  },
  {
   "cell_type": "code",
   "execution_count": 8,
   "metadata": {},
   "outputs": [
    {
     "data": {
      "text/plain": [
       "1"
      ]
     },
     "execution_count": 8,
     "metadata": {},
     "output_type": "execute_result"
    }
   ],
   "source": [
    "vocabulary.lookup_indices([START_TOKEN])[0]"
   ]
  },
  {
   "cell_type": "code",
   "execution_count": 32,
   "metadata": {},
   "outputs": [
    {
     "data": {
      "text/plain": [
       "38357"
      ]
     },
     "execution_count": 32,
     "metadata": {},
     "output_type": "execute_result"
    }
   ],
   "source": [
    "\n",
    "vocabulary.__len__()"
   ]
  },
  {
   "cell_type": "code",
   "execution_count": 58,
   "metadata": {},
   "outputs": [
    {
     "data": {
      "text/plain": [
       "[0, 0, 4, 0, 0]"
      ]
     },
     "execution_count": 58,
     "metadata": {},
     "output_type": "execute_result"
    }
   ],
   "source": []
  },
  {
   "cell_type": "code",
   "execution_count": 90,
   "metadata": {},
   "outputs": [],
   "source": [
    "\n",
    "\n"
   ]
  },
  {
   "cell_type": "code",
   "execution_count": null,
   "metadata": {},
   "outputs": [],
   "source": []
  },
  {
   "cell_type": "code",
   "execution_count": null,
   "metadata": {},
   "outputs": [],
   "source": []
  },
  {
   "cell_type": "code",
   "execution_count": null,
   "metadata": {},
   "outputs": [],
   "source": []
  },
  {
   "cell_type": "code",
   "execution_count": 9,
   "metadata": {},
   "outputs": [],
   "source": [
    "from torchtext.transforms import Sequential, AddToken, Truncate, ToTensor, VocabTransform\n",
    "add_token_start = AddToken(token=vocabulary.lookup_indices([START_TOKEN])[0], begin=True)\n",
    "add_token_end = AddToken(token=vocabulary.lookup_indices([END_TOKEN])[0], begin=False)\n",
    "text_tranform = Sequential(VocabTransform(vocabulary),\n",
    "                           Truncate(max_seq_len=MAX_SEQ_LEN - 2),\n",
    "                           add_token_start,\n",
    "                           add_token_end,\n",
    "                           ToTensor())"
   ]
  },
  {
   "cell_type": "code",
   "execution_count": 10,
   "metadata": {},
   "outputs": [],
   "source": [
    "from src.data.dataloader import ImageCaptionDataset"
   ]
  },
  {
   "cell_type": "code",
   "execution_count": 11,
   "metadata": {},
   "outputs": [],
   "source": [
    "training_dataset = ImageCaptionDataset(caption_path=caption_prediction.joinpath(\"training-captions.csv\"),\n",
    "                                       images_dir=data_path.joinpath(\"training-images\"),\n",
    "                                       sequence_length=200,\n",
    "                                       text_tokenizer=tokenizer,\n",
    "                                       text_transform=text_tranform)\n",
    "                                      "
   ]
  },
  {
   "cell_type": "code",
   "execution_count": 12,
   "metadata": {},
   "outputs": [],
   "source": [
    "validation_dataset = ImageCaptionDataset(caption_path=caption_prediction.joinpath(\"validation-captions.csv\"),\n",
    "                                       images_dir=data_path.joinpath(\"validation-images\"),\n",
    "                                       sequence_length=200,\n",
    "                                       text_tokenizer=tokenizer,\n",
    "                                       text_transform=text_tranform)"
   ]
  },
  {
   "cell_type": "code",
   "execution_count": 13,
   "metadata": {},
   "outputs": [],
   "source": [
    "from torch.utils.data import DataLoader\n",
    "from torch.nn.utils.rnn import pad_sequence, pad_packed_sequence\n",
    "\n",
    "def pad_sequences(batch):\n",
    "    captions = []\n",
    "    images = []\n",
    "    for image, caption in batch:\n",
    "        images.append(image)\n",
    "        captions.append(caption)\n",
    "    \n",
    "    captions = pad_sequence(captions, batch_first=True, padding_value=vocabulary.lookup_indices([PAD_TOKEN])[0])\n",
    "    images = torch.stack(images)\n",
    "    return images.to(device), captions.to(device)\n",
    "\n",
    "    \n",
    "train_dataloader = DataLoader(training_dataset, batch_size=64, shuffle=True, collate_fn=pad_sequences)"
   ]
  },
  {
   "cell_type": "code",
   "execution_count": 88,
   "metadata": {},
   "outputs": [],
   "source": []
  },
  {
   "cell_type": "code",
   "execution_count": null,
   "metadata": {},
   "outputs": [],
   "source": []
  },
  {
   "cell_type": "code",
   "execution_count": 18,
   "metadata": {},
   "outputs": [
    {
     "name": "stdout",
     "output_type": "stream",
     "text": [
      "Feature batch shape: torch.Size([64, 3, 224, 224])\n",
      "Labels batch shape: torch.Size([64, 64])\n"
     ]
    },
    {
     "name": "stderr",
     "output_type": "stream",
     "text": [
      "/var/folders/5_/n81dq93n79l30d_c34cfqxpr0000gn/T/ipykernel_12908/1892770973.py:7: UserWarning: The use of `x.T` on tensors of dimension other than 2 to reverse their shape is deprecated and it will throw an error in a future release. Consider `x.mT` to transpose batches of matricesor `x.permute(*torch.arange(x.ndim - 1, -1, -1))` to reverse the dimensions of a tensor. (Triggered internally at  /Users/distiller/project/pytorch/aten/src/ATen/native/TensorShape.cpp:2318.)\n",
      "  plt.imshow(img.T)\n"
     ]
    },
    {
     "data": {
      "image/png": "[encoded data removed]",
      "text/plain": [
       "<Figure size 432x288 with 1 Axes>"
      ]
     },
     "metadata": {
      "needs_background": "light"
     },
     "output_type": "display_data"
    },
    {
     "name": "stdout",
     "output_type": "stream",
     "text": [
      "the caption indices are [   1  177   95   38   19   14   52   21 4407    4   50  225   22   12\n",
      "  134    6  538  964 1112    7  232  110   10    8  538 1496  303 1303\n",
      "  134    4  170  390   86    4   69  102  100   11  171  711   23 1779\n",
      "   14   11  726   29    2    3    3    3    3    3    3    3    3    3\n",
      "    3    3    3    3    3    3    3    3]\n",
      "the caption text is ['<sos>', 'followup', 'contrastenhance', 'compute', 'tomography', 'ct', 'imaging', 'at', 'threemonth', 'the', 'anterior', 'mediastinal', 'mass', 'arrow', 'also', 'show', 'marked', 'interval', 'growth', 'and', 'heterogeneous', 'enhancement', 'with', 'a', 'marked', 'hypervascular', 'portion', 'asterbek', 'also', 'the', 'fat', 'component', 'within', 'the', 'tumor', 'arrowhead', 'which', 'be', 'not', 'clear', 'on', 'baseline', 'ct', 'be', 'clearly', 'demonstrate', '<eos>', '<pad>', '<pad>', '<pad>', '<pad>', '<pad>', '<pad>', '<pad>', '<pad>', '<pad>', '<pad>', '<pad>', '<pad>', '<pad>', '<pad>', '<pad>', '<pad>', '<pad>']\n"
     ]
    }
   ],
   "source": [
    "train_features, train_labels = next(iter(train_dataloader))\n",
    "print(f\"Feature batch shape: {train_features.size()}\")\n",
    "print(f\"Labels batch shape: {train_labels.size()}\")\n",
    "img = train_features[0].squeeze()\n",
    "label = train_labels[0]\n",
    "label = label.numpy()\n",
    "plt.imshow(img.T)\n",
    "plt.show()\n",
    "print(f\"the caption indices are {label}\")\n",
    "print(f\"the caption text is {vocabulary.lookup_tokens(label)}\")"
   ]
  },
  {
   "cell_type": "code",
   "execution_count": 58,
   "metadata": {},
   "outputs": [
    {
     "data": {
      "text/plain": [
       "{'id': 5, '<unk>': 0, 'caption': 4, '<pad>': 3, '<eos>': 2, '<sos>': 1}"
      ]
     },
     "execution_count": 58,
     "metadata": {},
     "output_type": "execute_result"
    }
   ],
   "source": []
  },
  {
   "cell_type": "code",
   "execution_count": null,
   "metadata": {},
   "outputs": [],
   "source": []
  },
  {
   "cell_type": "code",
   "execution_count": null,
   "metadata": {},
   "outputs": [],
   "source": []
  },
  {
   "cell_type": "code",
   "execution_count": null,
   "metadata": {},
   "outputs": [],
   "source": []
  },
  {
   "cell_type": "markdown",
   "metadata": {},
   "source": []
  },
  {
   "cell_type": "markdown",
   "metadata": {},
   "source": []
  },
  {
   "cell_type": "code",
   "execution_count": 19,
   "metadata": {},
   "outputs": [],
   "source": [
    "from src.models.models import EncoderCNN, DecoderRNN"
   ]
  },
  {
   "cell_type": "code",
   "execution_count": 21,
   "metadata": {},
   "outputs": [],
   "source": [
    "encoder = EncoderCNN(embedding_size=512)\n",
    "decoder = DecoderRNN(embed_size=512, hidden_size=512, vocab_size=2500)"
   ]
  },
  {
   "cell_type": "code",
   "execution_count": 23,
   "metadata": {},
   "outputs": [],
   "source": [
    "train_image, train_caption = next(iter(train_dataloader))"
   ]
  },
  {
   "cell_type": "code",
   "execution_count": 24,
   "metadata": {},
   "outputs": [],
   "source": [
    "\n",
    "input_names = ['images']\n",
    "output_names = ['images_vectors']\n",
    "torch.onnx.export(encoder, train_image, 'encoder_cnn.onnx', input_names=input_names, output_names=output_names)"
   ]
  },
  {
   "cell_type": "code",
   "execution_count": 33,
   "metadata": {},
   "outputs": [
    {
     "name": "stdout",
     "output_type": "stream",
     "text": [
      "DecoderRNN(\n",
      "  (lstm): LSTM(512, 512, batch_first=True)\n",
      "  (dropout): Dropout(p=0.2, inplace=False)\n",
      "  (embed): Embedding(2500, 512)\n",
      "  (linear): Linear(in_features=512, out_features=2500, bias=True)\n",
      ")\n"
     ]
    }
   ],
   "source": [
    "print(decoder)"
   ]
  },
  {
   "cell_type": "code",
   "execution_count": 37,
   "metadata": {},
   "outputs": [],
   "source": [
    "# Example of target with class indices\n",
    "loss = torch.nn.CrossEntropyLoss()\n",
    "input = torch.randn(3, 5, requires_grad=True)\n",
    "target = torch.empty(3, dtype=torch.long).random_(5)\n",
    "\n",
    "# Example of target with class probabilities\n"
   ]
  },
  {
   "cell_type": "code",
   "execution_count": 38,
   "metadata": {},
   "outputs": [],
   "source": [
    "input = torch.randn(3, 5, requires_grad=True)\n",
    "target = torch.randn(3, 5).softmax(dim=1)\n",
    "output = loss(input, target)\n",
    "output.backward()"
   ]
  },
  {
   "cell_type": "code",
   "execution_count": 39,
   "metadata": {},
   "outputs": [
    {
     "name": "stdout",
     "output_type": "stream",
     "text": [
      "the input is  tensor([[ 0.8538, -0.2625, -2.1512, -0.1095, -2.2551],\n",
      "        [-0.0858,  0.3443, -0.8959,  1.1365, -3.1316],\n",
      "        [ 0.9425,  0.3207, -0.6297, -0.2078, -0.1309]], requires_grad=True)\n",
      "the target is  tensor([[0.2626, 0.3343, 0.2813, 0.0478, 0.0740],\n",
      "        [0.2865, 0.0296, 0.2751, 0.3612, 0.0476],\n",
      "        [0.0910, 0.1134, 0.0115, 0.3401, 0.4439]])\n",
      "the loss is  tensor(1.8970, grad_fn=<DivBackward1>)\n"
     ]
    }
   ],
   "source": [
    "print(\"the input is \", input)\n",
    "print(\"the target is \", target)\n",
    "output = loss(input, target)\n",
    "output.backward()\n",
    "print( \"the loss is \", output)"
   ]
  },
  {
   "cell_type": "code",
   "execution_count": 44,
   "metadata": {},
   "outputs": [],
   "source": [
    "a = [[1, 2], [1, 3], [4,5]]\n",
    "b = torch.IntTensor(a)"
   ]
  },
  {
   "cell_type": "code",
   "execution_count": 46,
   "metadata": {},
   "outputs": [],
   "source": [
    "a = [[[1], [2]], [[1], [3]], [[4], [5]]]"
   ]
  },
  {
   "cell_type": "code",
   "execution_count": 54,
   "metadata": {},
   "outputs": [],
   "source": [
    "b = torch.FloatTensor(a)"
   ]
  },
  {
   "cell_type": "code",
   "execution_count": 48,
   "metadata": {},
   "outputs": [
    {
     "data": {
      "text/plain": [
       "torch.Size([3, 2, 1])"
      ]
     },
     "execution_count": 48,
     "metadata": {},
     "output_type": "execute_result"
    }
   ],
   "source": [
    "b.shape"
   ]
  },
  {
   "cell_type": "code",
   "execution_count": 55,
   "metadata": {},
   "outputs": [],
   "source": [
    "b = b.reshape(3, 1, 2)"
   ]
  },
  {
   "cell_type": "code",
   "execution_count": 52,
   "metadata": {},
   "outputs": [],
   "source": []
  },
  {
   "cell_type": "code",
   "execution_count": 57,
   "metadata": {},
   "outputs": [
    {
     "data": {
      "text/plain": [
       "torch.Size([3, 2])"
      ]
     },
     "execution_count": 57,
     "metadata": {},
     "output_type": "execute_result"
    }
   ],
   "source": [
    "b.reshape(-1, 2).shape"
   ]
  },
  {
   "cell_type": "code",
   "execution_count": 61,
   "metadata": {},
   "outputs": [
    {
     "data": {
      "text/plain": [
       "142"
      ]
     },
     "execution_count": 61,
     "metadata": {},
     "output_type": "execute_result"
    }
   ],
   "source": [
    "sum([73, 24, 17, 16, 12])"
   ]
  },
  {
   "cell_type": "code",
   "execution_count": null,
   "metadata": {},
   "outputs": [],
   "source": []
  }
 ],
 "metadata": {
  "interpreter": {
   "hash": "45e6c3f6edf95306c7ba4a6009ec2873023c785057f109b45c5dd8179d07969b"
  },
  "kernelspec": {
   "display_name": "Python 3.7.5 ('.venv': poetry)",
   "language": "python",
   "name": "python3"
  },
  "language_info": {
   "codemirror_mode": {
    "name": "ipython",
    "version": 3
   },
   "file_extension": ".py",
   "mimetype": "text/x-python",
   "name": "python",
   "nbconvert_exporter": "python",
   "pygments_lexer": "ipython3",
   "version": "3.8.5"
  },
  "orig_nbformat": 4
 },
 "nbformat": 4,
 "nbformat_minor": 2
}
